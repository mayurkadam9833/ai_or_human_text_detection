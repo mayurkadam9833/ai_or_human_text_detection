{
 "cells": [
  {
   "cell_type": "code",
   "execution_count": 31,
   "id": "5a62e278",
   "metadata": {},
   "outputs": [],
   "source": [
    "import pandas as pd\n",
    "import warnings \n",
    "warnings.filterwarnings(\"ignore\")"
   ]
  },
  {
   "cell_type": "code",
   "execution_count": 2,
   "id": "9009bda2",
   "metadata": {},
   "outputs": [],
   "source": [
    "data=pd.read_csv(\"AI Generated Essays Dataset.csv\")"
   ]
  },
  {
   "cell_type": "code",
   "execution_count": 3,
   "id": "4ba7305a",
   "metadata": {},
   "outputs": [
    {
     "data": {
      "text/html": [
       "<div>\n",
       "<style scoped>\n",
       "    .dataframe tbody tr th:only-of-type {\n",
       "        vertical-align: middle;\n",
       "    }\n",
       "\n",
       "    .dataframe tbody tr th {\n",
       "        vertical-align: top;\n",
       "    }\n",
       "\n",
       "    .dataframe thead th {\n",
       "        text-align: right;\n",
       "    }\n",
       "</style>\n",
       "<table border=\"1\" class=\"dataframe\">\n",
       "  <thead>\n",
       "    <tr style=\"text-align: right;\">\n",
       "      <th></th>\n",
       "      <th>text</th>\n",
       "      <th>generated</th>\n",
       "    </tr>\n",
       "  </thead>\n",
       "  <tbody>\n",
       "    <tr>\n",
       "      <th>0</th>\n",
       "      <td>Machine learning, a subset of artificial intel...</td>\n",
       "      <td>1</td>\n",
       "    </tr>\n",
       "    <tr>\n",
       "      <th>1</th>\n",
       "      <td>A decision tree, a prominent machine learning ...</td>\n",
       "      <td>1</td>\n",
       "    </tr>\n",
       "    <tr>\n",
       "      <th>2</th>\n",
       "      <td>Education, a cornerstone of societal progress,...</td>\n",
       "      <td>1</td>\n",
       "    </tr>\n",
       "    <tr>\n",
       "      <th>3</th>\n",
       "      <td>Computers, the backbone of modern technology, ...</td>\n",
       "      <td>1</td>\n",
       "    </tr>\n",
       "    <tr>\n",
       "      <th>4</th>\n",
       "      <td>Chess, a timeless game of strategy and intelle...</td>\n",
       "      <td>1</td>\n",
       "    </tr>\n",
       "  </tbody>\n",
       "</table>\n",
       "</div>"
      ],
      "text/plain": [
       "                                                text  generated\n",
       "0  Machine learning, a subset of artificial intel...          1\n",
       "1  A decision tree, a prominent machine learning ...          1\n",
       "2  Education, a cornerstone of societal progress,...          1\n",
       "3  Computers, the backbone of modern technology, ...          1\n",
       "4  Chess, a timeless game of strategy and intelle...          1"
      ]
     },
     "execution_count": 3,
     "metadata": {},
     "output_type": "execute_result"
    }
   ],
   "source": [
    "data.head()"
   ]
  },
  {
   "cell_type": "code",
   "execution_count": 4,
   "id": "3d6bb2e2",
   "metadata": {},
   "outputs": [
    {
     "name": "stdout",
     "output_type": "stream",
     "text": [
      "<class 'pandas.core.frame.DataFrame'>\n",
      "RangeIndex: 1460 entries, 0 to 1459\n",
      "Data columns (total 2 columns):\n",
      " #   Column     Non-Null Count  Dtype \n",
      "---  ------     --------------  ----- \n",
      " 0   text       1460 non-null   object\n",
      " 1   generated  1460 non-null   int64 \n",
      "dtypes: int64(1), object(1)\n",
      "memory usage: 22.9+ KB\n"
     ]
    }
   ],
   "source": [
    "data.info()"
   ]
  },
  {
   "cell_type": "code",
   "execution_count": 5,
   "id": "89291b25",
   "metadata": {},
   "outputs": [
    {
     "data": {
      "text/plain": [
       "text         0\n",
       "generated    0\n",
       "dtype: int64"
      ]
     },
     "execution_count": 5,
     "metadata": {},
     "output_type": "execute_result"
    }
   ],
   "source": [
    "data.isnull().sum()"
   ]
  },
  {
   "cell_type": "code",
   "execution_count": 6,
   "id": "380dfe97",
   "metadata": {},
   "outputs": [
    {
     "data": {
      "text/plain": [
       "generated\n",
       "0    1375\n",
       "1      85\n",
       "Name: count, dtype: int64"
      ]
     },
     "execution_count": 6,
     "metadata": {},
     "output_type": "execute_result"
    }
   ],
   "source": [
    "data[\"generated\"].value_counts()"
   ]
  },
  {
   "cell_type": "code",
   "execution_count": 7,
   "id": "82aa296c",
   "metadata": {},
   "outputs": [],
   "source": [
    "import nltk\n",
    "import re\n",
    "from nltk.stem import WordNetLemmatizer\n",
    "from nltk.corpus import stopwords"
   ]
  },
  {
   "cell_type": "code",
   "execution_count": 8,
   "id": "77df1f30",
   "metadata": {},
   "outputs": [],
   "source": [
    "le=WordNetLemmatizer()"
   ]
  },
  {
   "cell_type": "code",
   "execution_count": 9,
   "id": "6ac65fa7",
   "metadata": {},
   "outputs": [],
   "source": [
    "def data_preprocess(data):\n",
    "    clean_data=re.sub(\"[^a-zA-Z]\",\" \",data)\n",
    "    lower_data=clean_data.lower()\n",
    "    tokenize=lower_data.split()\n",
    "    lemitize_data=[le.lemmatize(word) for word in tokenize if word not in stopwords.words(\"english\")]\n",
    "    final_data=\" \".join(lemitize_data)\n",
    "    return final_data"
   ]
  },
  {
   "cell_type": "code",
   "execution_count": 10,
   "id": "070e3783",
   "metadata": {},
   "outputs": [
    {
     "data": {
      "text/plain": [
       "'A decision tree, a prominent machine learning algorithm, structures decision-making in a tree-like model. Nodes represent decisions, branches signify outcomes, and leaves denote final decisions or predictions. The algorithm evaluates input features at each internal node, guiding the path to subsequent nodes until a leaf node is reached, yielding the final decision. This method accommodates both categorical and numerical data, offering interpretability through a visual representation. However, decision trees may suffer from overfitting, addressed through techniques like pruning and ensemble methods. Despite challenges, decision trees stand as versatile tools, finding applications in classification and regression tasks with a balance of simplicity and effectiveness.'"
      ]
     },
     "execution_count": 10,
     "metadata": {},
     "output_type": "execute_result"
    }
   ],
   "source": [
    "data[\"text\"][1]"
   ]
  },
  {
   "cell_type": "code",
   "execution_count": 11,
   "id": "bb27c559",
   "metadata": {},
   "outputs": [],
   "source": [
    "data[\"text\"]=data[\"text\"].apply(data_preprocess)"
   ]
  },
  {
   "cell_type": "code",
   "execution_count": 12,
   "id": "ff106462",
   "metadata": {},
   "outputs": [
    {
     "data": {
      "text/plain": [
       "'decision tree prominent machine learning algorithm structure decision making tree like model node represent decision branch signify outcome leaf denote final decision prediction algorithm evaluates input feature internal node guiding path subsequent node leaf node reached yielding final decision method accommodates categorical numerical data offering interpretability visual representation however decision tree may suffer overfitting addressed technique like pruning ensemble method despite challenge decision tree stand versatile tool finding application classification regression task balance simplicity effectiveness'"
      ]
     },
     "execution_count": 12,
     "metadata": {},
     "output_type": "execute_result"
    }
   ],
   "source": [
    "data[\"text\"][1]"
   ]
  },
  {
   "cell_type": "code",
   "execution_count": 13,
   "id": "57b65ade",
   "metadata": {},
   "outputs": [],
   "source": [
    "x=data.iloc[:,:1]\n",
    "y=data.iloc[:,1:]"
   ]
  },
  {
   "cell_type": "code",
   "execution_count": 14,
   "id": "713227bb",
   "metadata": {},
   "outputs": [],
   "source": [
    "from sklearn.model_selection import train_test_split"
   ]
  },
  {
   "cell_type": "code",
   "execution_count": 15,
   "id": "736e8752",
   "metadata": {},
   "outputs": [],
   "source": [
    "train_x,test_x,train_y,test_y=train_test_split(x,y,test_size=0.2,random_state=42)"
   ]
  },
  {
   "cell_type": "code",
   "execution_count": 16,
   "id": "bfc0b7a2",
   "metadata": {},
   "outputs": [],
   "source": [
    "from sklearn.feature_extraction.text import CountVectorizer\n",
    "cv=CountVectorizer(max_features=1000,ngram_range=(1,2))"
   ]
  },
  {
   "cell_type": "code",
   "execution_count": 17,
   "id": "c9b2cf15",
   "metadata": {},
   "outputs": [],
   "source": [
    "bow_train_x=cv.fit_transform(train_x[\"text\"]).toarray()\n",
    "bow_test_x=cv.fit_transform(test_x[\"text\"]).toarray()"
   ]
  },
  {
   "cell_type": "code",
   "execution_count": 18,
   "id": "4deab6de",
   "metadata": {},
   "outputs": [
    {
     "data": {
      "text/plain": [
       "array([[0, 1, 1, ..., 0, 0, 0],\n",
       "       [0, 0, 0, ..., 0, 0, 0],\n",
       "       [0, 0, 0, ..., 0, 0, 0],\n",
       "       ...,\n",
       "       [0, 0, 0, ..., 0, 0, 0],\n",
       "       [0, 0, 0, ..., 0, 0, 0],\n",
       "       [0, 0, 0, ..., 0, 0, 0]], dtype=int64)"
      ]
     },
     "execution_count": 18,
     "metadata": {},
     "output_type": "execute_result"
    }
   ],
   "source": [
    "bow_train_x"
   ]
  },
  {
   "cell_type": "code",
   "execution_count": 19,
   "id": "679560a3",
   "metadata": {},
   "outputs": [],
   "source": [
    "from imblearn.over_sampling import SMOTE\n",
    "sampling=SMOTE()\n",
    "bow_train_x,train_y=sampling.fit_resample(bow_train_x,train_y)"
   ]
  },
  {
   "cell_type": "code",
   "execution_count": 20,
   "id": "f6946656",
   "metadata": {},
   "outputs": [],
   "source": [
    "from sklearn.naive_bayes import BernoulliNB\n",
    "from sklearn.naive_bayes import MultinomialNB\n",
    "from sklearn.naive_bayes import GaussianNB"
   ]
  },
  {
   "cell_type": "code",
   "execution_count": 21,
   "id": "e03a42d4",
   "metadata": {},
   "outputs": [],
   "source": [
    "from sklearn.metrics import accuracy_score,confusion_matrix,precision_score,recall_score,f1_score,roc_auc_score"
   ]
  },
  {
   "cell_type": "code",
   "execution_count": 22,
   "id": "4e7154d2",
   "metadata": {},
   "outputs": [],
   "source": [
    "def get_metrics(actual,predicted):\n",
    "    acc=accuracy_score(actual,predicted)\n",
    "    cf=confusion_matrix(actual,predicted)\n",
    "    pr=precision_score(actual,predicted)\n",
    "    rc=recall_score(actual,predicted)\n",
    "    f1=f1_score(actual,predicted)\n",
    "    roc=roc_auc_score(actual,predicted)\n",
    "    return acc,cf,pr,rc,f1,roc"
   ]
  },
  {
   "cell_type": "code",
   "execution_count": 28,
   "id": "d6536a66",
   "metadata": {},
   "outputs": [],
   "source": [
    "models={\n",
    "    \"BernoulliNB\":BernoulliNB(),\n",
    "    \"MultinomialNB\":MultinomialNB(),\n",
    "    \"GaussianNB\":GaussianNB()\n",
    "}"
   ]
  },
  {
   "cell_type": "code",
   "execution_count": 32,
   "id": "f255c350",
   "metadata": {},
   "outputs": [
    {
     "name": "stdout",
     "output_type": "stream",
     "text": [
      "BernoulliNB\n",
      "---------------------------------------\n",
      "training data:\n",
      "accuracy score: 0.99909338168631\n",
      "confusion metrics:\n",
      " [[1103    0]\n",
      " [   2 1101]]\n",
      "precision score: 1.0\n",
      "recall score: 0.9981867633726201\n",
      "f1-score: 0.9990925589836661\n",
      "roc auc score: 0.9990933816863101\n",
      "---------------------------------------\n",
      "testing data:\n",
      "accuracy score: 0.9897260273972602\n",
      "confusion metrics:\n",
      " [[272   0]\n",
      " [  3  17]]\n",
      "precision score: 1.0\n",
      "recall score: 0.85\n",
      "f1-score: 0.918918918918919\n",
      "roc auc score: 0.925\n",
      "====================================================================\n",
      "\n",
      "\n",
      "MultinomialNB\n",
      "---------------------------------------\n",
      "training data:\n",
      "accuracy score: 0.9138712601994561\n",
      "confusion metrics:\n",
      " [[1103    0]\n",
      " [ 190  913]]\n",
      "precision score: 1.0\n",
      "recall score: 0.827742520398912\n",
      "f1-score: 0.9057539682539683\n",
      "roc auc score: 0.9138712601994561\n",
      "---------------------------------------\n",
      "testing data:\n",
      "accuracy score: 0.934931506849315\n",
      "confusion metrics:\n",
      " [[272   0]\n",
      " [ 19   1]]\n",
      "precision score: 1.0\n",
      "recall score: 0.05\n",
      "f1-score: 0.09523809523809523\n",
      "roc auc score: 0.525\n",
      "====================================================================\n",
      "\n",
      "\n",
      "GaussianNB\n",
      "---------------------------------------\n",
      "training data:\n",
      "accuracy score: 0.9981867633726201\n",
      "confusion metrics:\n",
      " [[1103    0]\n",
      " [   4 1099]]\n",
      "precision score: 1.0\n",
      "recall score: 0.9963735267452403\n",
      "f1-score: 0.9981834695731153\n",
      "roc auc score: 0.9981867633726201\n",
      "---------------------------------------\n",
      "testing data:\n",
      "accuracy score: 0.9315068493150684\n",
      "confusion metrics:\n",
      " [[272   0]\n",
      " [ 20   0]]\n",
      "precision score: 0.0\n",
      "recall score: 0.0\n",
      "f1-score: 0.0\n",
      "roc auc score: 0.5\n",
      "====================================================================\n",
      "\n",
      "\n"
     ]
    }
   ],
   "source": [
    "for i in range(len(list(models))):\n",
    "    model=list(models.values())[i]\n",
    "    model.fit(bow_train_x,train_y)\n",
    "\n",
    "    train_predict=model.predict(bow_train_x)\n",
    "    test_predict=model.predict(bow_test_x)\n",
    "\n",
    "    train_acc,train_cf,train_pr,train_rc,train_f1,train_roc=get_metrics(train_y,train_predict)\n",
    "    test_acc,test_cf,test_pr,test_rc,test_f1,test_roc=get_metrics(test_y,test_predict)\n",
    "\n",
    "    print(list(models.keys())[i])\n",
    "    print(\"---------------------------------------\")\n",
    "    print(\"training data:\")\n",
    "    print(\"accuracy score:\",train_acc)\n",
    "    print(\"confusion metrics:\\n\",train_cf)\n",
    "    print(\"precision score:\",train_pr)\n",
    "    print(\"recall score:\",train_rc)\n",
    "    print(\"f1-score:\",train_f1)\n",
    "    print(\"roc auc score:\",train_roc)\n",
    "    print(\"---------------------------------------\")\n",
    "    print(\"testing data:\")\n",
    "    print(\"accuracy score:\",test_acc)\n",
    "    print(\"confusion metrics:\\n\",test_cf)\n",
    "    print(\"precision score:\",test_pr)\n",
    "    print(\"recall score:\",test_rc)\n",
    "    print(\"f1-score:\",test_f1)\n",
    "    print(\"roc auc score:\",test_roc)\n",
    "    print(\"====================================================================\")\n",
    "    print(\"\\n\")"
   ]
  },
  {
   "cell_type": "code",
   "execution_count": null,
   "id": "75a3c6fb",
   "metadata": {},
   "outputs": [],
   "source": []
  }
 ],
 "metadata": {
  "kernelspec": {
   "display_name": "python",
   "language": "python",
   "name": "python3"
  },
  "language_info": {
   "codemirror_mode": {
    "name": "ipython",
    "version": 3
   },
   "file_extension": ".py",
   "mimetype": "text/x-python",
   "name": "python",
   "nbconvert_exporter": "python",
   "pygments_lexer": "ipython3",
   "version": "3.12.9"
  }
 },
 "nbformat": 4,
 "nbformat_minor": 5
}
