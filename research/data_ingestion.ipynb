{
 "cells": [
  {
   "cell_type": "code",
   "execution_count": 1,
   "id": "1865da6f",
   "metadata": {},
   "outputs": [],
   "source": [
    "import os"
   ]
  },
  {
   "cell_type": "code",
   "execution_count": 2,
   "id": "917cf70f",
   "metadata": {},
   "outputs": [
    {
     "data": {
      "text/plain": [
       "'e:\\\\ml projects\\\\ai_or_human_text_detection\\\\research'"
      ]
     },
     "execution_count": 2,
     "metadata": {},
     "output_type": "execute_result"
    }
   ],
   "source": [
    "%pwd"
   ]
  },
  {
   "cell_type": "code",
   "execution_count": 3,
   "id": "c8b48447",
   "metadata": {},
   "outputs": [],
   "source": [
    "os.chdir(\"../\")"
   ]
  },
  {
   "cell_type": "code",
   "execution_count": 4,
   "id": "8bc2b5e6",
   "metadata": {},
   "outputs": [],
   "source": [
    "from pathlib import Path \n",
    "from dataclasses import dataclass\n",
    "\n",
    "@dataclass(frozen=True)\n",
    "class DataIngestionConfig:\n",
    "    root_dir: Path\n",
    "    source_url: str\n",
    "    local_data_file: Path\n",
    "    unzip_dir: Path"
   ]
  },
  {
   "cell_type": "code",
   "execution_count": 5,
   "id": "d00dac78",
   "metadata": {},
   "outputs": [],
   "source": [
    "from src.ai_or_human_text.utils.common import read_yaml,create_dir\n",
    "from src.ai_or_human_text.constants import *"
   ]
  },
  {
   "cell_type": "code",
   "execution_count": 6,
   "id": "d44ec242",
   "metadata": {},
   "outputs": [],
   "source": [
    "class ConfigManager:\n",
    "    def __init__(\n",
    "        self,\n",
    "        config_file=CONFIG_FILE_PATH,\n",
    "        schema_file=SCHEMA_FILE_PATH,\n",
    "        params_file=PARAMS_FILE_PATH):\n",
    "\n",
    "        self.config=read_yaml(config_file)\n",
    "        self.schema=read_yaml(schema_file)\n",
    "        self.params=read_yaml(params_file)\n",
    "\n",
    "        create_dir([self.config.artifacts_root])\n",
    "\n",
    "    def get_data_ingestion_config(self)-> DataIngestionConfig:\n",
    "        config=self.config.data_ingestion\n",
    "\n",
    "        create_dir([config.root_dir])\n",
    "\n",
    "        data_ingestion_config=DataIngestionConfig(\n",
    "            root_dir=config.root_dir,\n",
    "            source_url=config.source_url,\n",
    "            local_data_file=config. local_data_file,\n",
    "            unzip_dir=config.unzip_dir)\n",
    "        \n",
    "        return data_ingestion_config"
   ]
  },
  {
   "cell_type": "code",
   "execution_count": 7,
   "id": "abebf72c",
   "metadata": {},
   "outputs": [],
   "source": [
    "import zipfile\n",
    "from urllib.request import urlretrieve\n",
    "from src.ai_or_human_text.logging import logger"
   ]
  },
  {
   "cell_type": "code",
   "execution_count": 8,
   "id": "773ffaee",
   "metadata": {},
   "outputs": [],
   "source": [
    "class DataIngestion:\n",
    "    def __init__(self,config:DataIngestionConfig):\n",
    "        self.config=config \n",
    "\n",
    "    def download_file(self):\n",
    "        try:\n",
    "            if not os.path.exists(self.config.local_data_file):\n",
    "                filename,header=urlretrieve(\n",
    "                    url=self.config.source_url,\n",
    "                    filename=self.config.local_data_file\n",
    "                )\n",
    "                logger.info(f\"{filename} downloaded sucessfully from following header:\\n {header}\")\n",
    "\n",
    "            else:\n",
    "                logger.info(f\"file is already exists...\")\n",
    "        \n",
    "        except Exception as e:\n",
    "            raise e\n",
    "    \n",
    "    def extract_file(self):\n",
    "        unzip_path=self.config.unzip_dir\n",
    "        os.makedirs(unzip_path,exist_ok=True)\n",
    "        with zipfile.ZipFile(self.config.local_data_file,\"r\")as zipref:\n",
    "            zipref.extractall(unzip_path)"
   ]
  },
  {
   "cell_type": "code",
   "execution_count": 9,
   "id": "eeb98d33",
   "metadata": {},
   "outputs": [
    {
     "name": "stdout",
     "output_type": "stream",
     "text": [
      "[2025-08-14 12:06:29,677 : INFO : common : yaml file loaded sucessfully from config\\config.yaml]\n",
      "[2025-08-14 12:06:29,678 : INFO : common : yaml file loaded sucessfully from schema.yaml]\n",
      "[2025-08-14 12:06:29,679 : INFO : common : yaml file loaded sucessfully from params.yaml]\n",
      "[2025-08-14 12:06:29,680 : INFO : common : artifacts created sucessfully]\n",
      "[2025-08-14 12:06:29,680 : INFO : common : artifacts/data_ingestion created sucessfully]\n",
      "[2025-08-14 12:06:30,898 : INFO : 1988942763 : artifacts/data_ingestion/AI_generated_text_data.zip downloaded sucessfully from following header:\n",
      " Connection: close\n",
      "Content-Length: 1466020\n",
      "Cache-Control: max-age=300\n",
      "Content-Security-Policy: default-src 'none'; style-src 'unsafe-inline'; sandbox\n",
      "Content-Type: application/zip\n",
      "ETag: \"bf1071dab30d4437ce6312de2d64128a145e26343b234af44a8c45c4c003f948\"\n",
      "Strict-Transport-Security: max-age=31536000\n",
      "X-Content-Type-Options: nosniff\n",
      "X-Frame-Options: deny\n",
      "X-XSS-Protection: 1; mode=block\n",
      "X-GitHub-Request-Id: 13D5:34F94B:4CAEE:C10CB:689D83EE\n",
      "Accept-Ranges: bytes\n",
      "Date: Thu, 14 Aug 2025 06:36:30 GMT\n",
      "Via: 1.1 varnish\n",
      "X-Served-By: cache-bom-vanm7210038-BOM\n",
      "X-Cache: MISS\n",
      "X-Cache-Hits: 0\n",
      "X-Timer: S1755153391.649701,VS0,VE286\n",
      "Vary: Authorization,Accept-Encoding\n",
      "Access-Control-Allow-Origin: *\n",
      "Cross-Origin-Resource-Policy: cross-origin\n",
      "X-Fastly-Request-ID: 5ad8b6879bbcf07c519445f55fcd3d1abe3e236e\n",
      "Expires: Thu, 14 Aug 2025 06:41:30 GMT\n",
      "Source-Age: 0\n",
      "\n",
      "]\n"
     ]
    }
   ],
   "source": [
    "try:\n",
    "    config=ConfigManager()\n",
    "    data_ingestion_config=config.get_data_ingestion_config()\n",
    "    data_ingestion=DataIngestion(config=data_ingestion_config)\n",
    "    data_ingestion.download_file()\n",
    "    data_ingestion.extract_file()\n",
    "except Exception as e:\n",
    "    raise e"
   ]
  },
  {
   "cell_type": "code",
   "execution_count": null,
   "id": "ccba507a",
   "metadata": {},
   "outputs": [],
   "source": []
  }
 ],
 "metadata": {
  "kernelspec": {
   "display_name": "python",
   "language": "python",
   "name": "python3"
  },
  "language_info": {
   "codemirror_mode": {
    "name": "ipython",
    "version": 3
   },
   "file_extension": ".py",
   "mimetype": "text/x-python",
   "name": "python",
   "nbconvert_exporter": "python",
   "pygments_lexer": "ipython3",
   "version": "3.12.9"
  }
 },
 "nbformat": 4,
 "nbformat_minor": 5
}
