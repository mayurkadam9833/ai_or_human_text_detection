{
 "cells": [
  {
   "cell_type": "code",
   "execution_count": 1,
   "id": "ce28e95d",
   "metadata": {},
   "outputs": [],
   "source": [
    "import os "
   ]
  },
  {
   "cell_type": "code",
   "execution_count": 2,
   "id": "342354fa",
   "metadata": {},
   "outputs": [
    {
     "data": {
      "text/plain": [
       "'e:\\\\ml projects\\\\ai_or_human_text_detection\\\\research'"
      ]
     },
     "execution_count": 2,
     "metadata": {},
     "output_type": "execute_result"
    }
   ],
   "source": [
    "%pwd"
   ]
  },
  {
   "cell_type": "code",
   "execution_count": 3,
   "id": "e6da6f44",
   "metadata": {},
   "outputs": [],
   "source": [
    "os.chdir(\"../\")"
   ]
  },
  {
   "cell_type": "code",
   "execution_count": 4,
   "id": "e5f09fbf",
   "metadata": {},
   "outputs": [],
   "source": [
    "from dataclasses import dataclass\n",
    "from pathlib import Path \n",
    "\n",
    "@dataclass(frozen=True)\n",
    "class DataValidationConfig:\n",
    "    root_dir: Path \n",
    "    unzip_data_path: Path\n",
    "    STATUS_FILE_PATH: str \n",
    "    all_schema: dict"
   ]
  },
  {
   "cell_type": "code",
   "execution_count": 5,
   "id": "ff655e4b",
   "metadata": {},
   "outputs": [],
   "source": [
    "from src.ai_or_human_text.constants import * \n",
    "from src.ai_or_human_text.utils.common import read_yaml,create_dir"
   ]
  },
  {
   "cell_type": "code",
   "execution_count": 6,
   "id": "e8a89571",
   "metadata": {},
   "outputs": [],
   "source": [
    "class ConfigManager:\n",
    "    def __init__(\n",
    "        self,\n",
    "        config_file=CONFIG_FILE_PATH,\n",
    "        schema_file=SCHEMA_FILE_PATH,\n",
    "        params_file=PARAMS_FILE_PATH):\n",
    "\n",
    "        self.config=read_yaml(config_file)\n",
    "        self.schema=read_yaml(schema_file)\n",
    "        self.params=read_yaml(params_file)\n",
    "\n",
    "        create_dir([self.config.artifacts_root])\n",
    "\n",
    "    def get_data_validation_config(self)-> DataValidationConfig:\n",
    "        config=self.config.data_validation\n",
    "        schema=self.schema.COLUMNS\n",
    "\n",
    "        create_dir([config.root_dir])\n",
    "\n",
    "        data_validation_config=DataValidationConfig(\n",
    "            root_dir=config.root_dir,\n",
    "            unzip_data_path=config.unzip_data_path,\n",
    "            STATUS_FILE_PATH=config.STATUS_FILE_PATH,\n",
    "            all_schema=schema)\n",
    "\n",
    "        return data_validation_config     "
   ]
  },
  {
   "cell_type": "code",
   "execution_count": 7,
   "id": "c9a56c65",
   "metadata": {},
   "outputs": [
    {
     "name": "stdout",
     "output_type": "stream",
     "text": [
      "[2025-08-14 12:20:42,407 : INFO : utils : NumExpr defaulting to 12 threads.]\n"
     ]
    }
   ],
   "source": [
    "import pandas as pd\n",
    "from src.ai_or_human_text.logging import logger"
   ]
  },
  {
   "cell_type": "code",
   "execution_count": 8,
   "id": "b442b84f",
   "metadata": {},
   "outputs": [],
   "source": [
    "class DataValidation:\n",
    "    def __init__(self,config:DataValidationConfig):\n",
    "        self.config=config \n",
    "\n",
    "    def schema_validation(self):\n",
    "        try:\n",
    "            schema_status:None\n",
    "            data=pd.read_csv(self.config.unzip_data_path)\n",
    "            all_cols=list(data.columns)\n",
    "            all_schema=self.config.all_schema.keys()\n",
    "\n",
    "            for col in all_cols:\n",
    "                if col not in all_schema:\n",
    "                    schema_status=False\n",
    "                    with open(self.config.STATUS_FILE_PATH,\"w\")as file:\n",
    "                        file.write(f\"schema status: {schema_status}\")\n",
    "                        logger.info(f\"schema does not match with this columns:{[col]}\")\n",
    "                \n",
    "                else: \n",
    "                    schema_status=True\n",
    "                    with open(self.config.STATUS_FILE_PATH,\"w\")as file:\n",
    "                        file.write(f\"schema status: {schema_status}\")\n",
    "                return schema_status\n",
    "        \n",
    "        except Exception as e: \n",
    "            raise e\n",
    "        \n",
    "    def data_type_validation(self):\n",
    "        try:\n",
    "            data_type_status:None \n",
    "            data=pd.read_csv(self.config.unzip_data_path)\n",
    "            all_data_type=list(data.dtypes)\n",
    "            all_schema=self.config.all_schema.values()\n",
    "\n",
    "            for data_type in all_data_type:\n",
    "                if str(data_type) not in all_schema:\n",
    "                    data_type_status=False\n",
    "                    with open(self.config.STATUS_FILE_PATH,\"a\")as file:\n",
    "                        file.append(f\"\\ndata type status: {data_type_status}\")\n",
    "                \n",
    "                else:\n",
    "                    data_type_status=True\n",
    "                    with open(self.config.STATUS_FILE_PATH,\"a\")as file:\n",
    "                        file.write(f\"\\ndata type status: {data_type_status}\")\n",
    "                \n",
    "                return data_type_status\n",
    "            \n",
    "        except Exception as e: \n",
    "            raise e\n",
    "\n",
    "            \n"
   ]
  },
  {
   "cell_type": "code",
   "execution_count": 9,
   "id": "30c3778f",
   "metadata": {},
   "outputs": [
    {
     "name": "stdout",
     "output_type": "stream",
     "text": [
      "[2025-08-14 12:20:42,700 : INFO : common : yaml file loaded sucessfully from config\\config.yaml]\n",
      "[2025-08-14 12:20:42,701 : INFO : common : yaml file loaded sucessfully from schema.yaml]\n",
      "[2025-08-14 12:20:42,702 : INFO : common : yaml file loaded sucessfully from params.yaml]\n",
      "[2025-08-14 12:20:42,702 : INFO : common : artifacts created sucessfully]\n",
      "[2025-08-14 12:20:42,704 : INFO : common : artifacts/data_validation created sucessfully]\n"
     ]
    }
   ],
   "source": [
    "try:\n",
    "    config=ConfigManager()\n",
    "    data_validation_config=config.get_data_validation_config()\n",
    "    data_validation=DataValidation(config=data_validation_config)\n",
    "    data_validation.schema_validation()\n",
    "    data_validation.data_type_validation()\n",
    "except Exception as e: \n",
    "    raise e"
   ]
  },
  {
   "cell_type": "code",
   "execution_count": null,
   "id": "8ad25f63",
   "metadata": {},
   "outputs": [],
   "source": []
  }
 ],
 "metadata": {
  "kernelspec": {
   "display_name": "python",
   "language": "python",
   "name": "python3"
  },
  "language_info": {
   "codemirror_mode": {
    "name": "ipython",
    "version": 3
   },
   "file_extension": ".py",
   "mimetype": "text/x-python",
   "name": "python",
   "nbconvert_exporter": "python",
   "pygments_lexer": "ipython3",
   "version": "3.12.9"
  }
 },
 "nbformat": 4,
 "nbformat_minor": 5
}
